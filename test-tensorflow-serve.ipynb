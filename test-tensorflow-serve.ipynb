{
 "cells": [
  {
   "cell_type": "code",
   "execution_count": 1,
   "id": "22ea5423",
   "metadata": {},
   "outputs": [],
   "source": [
    "import numpy as np\n",
    "import requests\n",
    "from PIL import Image"
   ]
  },
  {
   "cell_type": "code",
   "execution_count": 2,
   "id": "56a56387",
   "metadata": {},
   "outputs": [],
   "source": [
    "def get_from_url(url):\n",
    "    r = requests.get(url)\n",
    "\n",
    "    with open(\"/tmp/image.jpg\", 'wb') as f:\n",
    "        f.write(r.content) \n",
    "\n",
    "\n",
    "def preprocess(X):\n",
    "    return np.float32((X/127.5) - 1)\n"
   ]
  },
  {
   "cell_type": "code",
   "execution_count": 3,
   "id": "8ec25081",
   "metadata": {},
   "outputs": [],
   "source": [
    "def get_url(url):\n",
    "    get_from_url(url)\n",
    "\n",
    "    with Image.open('/tmp/image.jpg') as img:\n",
    "        img = img.resize((299, 299), Image.NEAREST)\n",
    "\n",
    "    X = preprocess(np.array([np.array(img)]))\n",
    "    \n",
    "    return X"
   ]
  },
  {
   "cell_type": "code",
   "execution_count": 4,
   "id": "ddd8b6cd",
   "metadata": {},
   "outputs": [],
   "source": [
    "X = get_url('https://bit.ly/3N3qWuF')"
   ]
  },
  {
   "cell_type": "code",
   "execution_count": 5,
   "id": "f3bd4e66",
   "metadata": {},
   "outputs": [],
   "source": [
    "#! pip install tensorflow-serving-api"
   ]
  },
  {
   "cell_type": "code",
   "execution_count": 6,
   "id": "64b784af",
   "metadata": {},
   "outputs": [],
   "source": [
    "import grpc\n",
    "import tensorflow as tf\n",
    "\n",
    "from tensorflow_serving.apis import predict_pb2\n",
    "from tensorflow_serving.apis import prediction_service_pb2_grpc"
   ]
  },
  {
   "cell_type": "code",
   "execution_count": 7,
   "id": "ad5a7b33",
   "metadata": {},
   "outputs": [],
   "source": [
    "X_proto = tf.make_tensor_proto(X, shape=X.shape)"
   ]
  },
  {
   "cell_type": "code",
   "execution_count": 8,
   "id": "6b31636d",
   "metadata": {},
   "outputs": [],
   "source": [
    "host = 'localhost:8500'\n",
    "channel = grpc.insecure_channel(host)\n",
    "\n",
    "stub = prediction_service_pb2_grpc.PredictionServiceStub(channel)"
   ]
  },
  {
   "cell_type": "code",
   "execution_count": 9,
   "id": "67aaac69",
   "metadata": {},
   "outputs": [],
   "source": [
    "pb_request = predict_pb2.PredictRequest()\n",
    "\n",
    "pb_request.model_spec.name = 'clothing-model'\n",
    "pb_request.model_spec.signature_name = 'serving_default'\n",
    "\n",
    "pb_request.inputs['input_2'].CopyFrom(X_proto)"
   ]
  },
  {
   "cell_type": "code",
   "execution_count": 10,
   "id": "0814fbdf",
   "metadata": {},
   "outputs": [],
   "source": [
    "pb_response = stub.Predict(pb_request, timeout=20.0)"
   ]
  },
  {
   "cell_type": "code",
   "execution_count": 11,
   "id": "520a64a0",
   "metadata": {},
   "outputs": [],
   "source": [
    "prediction = pb_response.outputs['dense_1'].float_val"
   ]
  },
  {
   "cell_type": "code",
   "execution_count": 12,
   "id": "22219a43",
   "metadata": {},
   "outputs": [],
   "source": [
    "classes = ['dress','hat','longsleeve','outwear','pants','shirt','shoes','shorts','skirt','t-shirt']"
   ]
  },
  {
   "cell_type": "code",
   "execution_count": 14,
   "id": "d59fe6f3",
   "metadata": {},
   "outputs": [],
   "source": [
    "result = dict(zip(classes, prediction))"
   ]
  },
  {
   "cell_type": "code",
   "execution_count": 15,
   "id": "e7d3af32",
   "metadata": {},
   "outputs": [
    {
     "data": {
      "text/plain": [
       "{'dress': 2.4360194206237793,\n",
       " 'hat': -6.271371364593506,\n",
       " 'longsleeve': 2.911688804626465,\n",
       " 'outwear': -5.460511207580566,\n",
       " 'pants': -8.456361770629883,\n",
       " 'shirt': 3.5294289588928223,\n",
       " 'shoes': -10.453047752380371,\n",
       " 'shorts': -4.042233467102051,\n",
       " 'skirt': -5.232727527618408,\n",
       " 't-shirt': 7.850218772888184}"
      ]
     },
     "execution_count": 15,
     "metadata": {},
     "output_type": "execute_result"
    }
   ],
   "source": [
    "result"
   ]
  },
  {
   "cell_type": "code",
   "execution_count": null,
   "id": "18431f0b",
   "metadata": {},
   "outputs": [],
   "source": []
  }
 ],
 "metadata": {
  "kernelspec": {
   "display_name": "Python 3 (ipykernel)",
   "language": "python",
   "name": "python3"
  },
  "language_info": {
   "codemirror_mode": {
    "name": "ipython",
    "version": 3
   },
   "file_extension": ".py",
   "mimetype": "text/x-python",
   "name": "python",
   "nbconvert_exporter": "python",
   "pygments_lexer": "ipython3",
   "version": "3.8.12"
  }
 },
 "nbformat": 4,
 "nbformat_minor": 5
}
